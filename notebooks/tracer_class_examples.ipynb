{
 "cells": [
  {
   "cell_type": "markdown",
   "metadata": {},
   "source": [
    "# Tracer Class Examples\n",
    "\n",
    "Some usage examples of the Tracer class., which represents a single mass tracer "
   ]
  },
  {
   "cell_type": "markdown",
   "metadata": {},
   "source": [
    "## Setup"
   ]
  },
  {
   "cell_type": "code",
   "execution_count": null,
   "metadata": {},
   "outputs": [],
   "source": [
    "from nucleosynth.tracers import tracer\n",
    "\n",
    "tracer_id = 0         # index of tracer\n",
    "model = 'traj_s12.0'  # name of model containing the tracer\n",
    "steps = [1, 2]        # skynet models can be composed of multiple \"steps\" or \"phases\""
   ]
  },
  {
   "cell_type": "markdown",
   "metadata": {},
   "source": [
    "## Loading the tracer\n",
    "\n",
    "The first time we load a tracer, the raw skynet data will be loaded and processed.\n",
    "If `save=True` (on by default), the processed data will be saved under `nucleosynth/cache/` so that it loads much faster the second time around (note the load times below).\n",
    "\n",
    "We can also force the raw data to be loaded from scratch with `reload=True`."
   ]
  },
  {
   "cell_type": "code",
   "execution_count": null,
   "metadata": {},
   "outputs": [],
   "source": [
    "t = tracer.Tracer(tracer_id=tracer_id, model=model, reload=True, save=True)"
   ]
  },
  {
   "cell_type": "code",
   "execution_count": null,
   "metadata": {
    "scrolled": true
   },
   "outputs": [],
   "source": [
    "t = tracer.Tracer(tracer_id=tracer_id, model=model, reload=False)"
   ]
  },
  {
   "cell_type": "markdown",
   "metadata": {},
   "source": [
    "## Main attributes\n",
    "\n",
    "The main tracer data are kept in a handful of tables.\n",
    "\n",
    "### `Tracer.tables`\n",
    "\n",
    "This dictionary holds tables of the thermo/hydrodynamic quantities at each timestep.\n",
    "\n",
    "The `'stir'` table is the original data from the FLASH model, used as input to SkyNet:"
   ]
  },
  {
   "cell_type": "code",
   "execution_count": null,
   "metadata": {},
   "outputs": [],
   "source": [
    "t.tables['stir']"
   ]
  },
  {
   "cell_type": "markdown",
   "metadata": {},
   "source": [
    "The `'columns'` table is similar, but is the actual output from the SkyNet model after post-processing.\n",
    "\n",
    "It may also cover a larger timespan than the original FLASH table if the SkyNet model included a free-expansion phase, which follows the nucleosynthesis to later times."
   ]
  },
  {
   "cell_type": "code",
   "execution_count": null,
   "metadata": {},
   "outputs": [],
   "source": [
    "t.tables['columns']"
   ]
  },
  {
   "cell_type": "markdown",
   "metadata": {},
   "source": [
    "### `Tracer.composition`\n",
    "\n",
    "This dictionary holds tables of the full isotopic composition at each timestep, as calculated by SkyNet.\n",
    "\n",
    "The two tables are labelled `X` and `Y`, corresponding to mass fraction and number fraction, respectively:"
   ]
  },
  {
   "cell_type": "code",
   "execution_count": null,
   "metadata": {},
   "outputs": [],
   "source": [
    "t.composition['X']"
   ]
  }
 ],
 "metadata": {
  "kernelspec": {
   "display_name": "Python 3",
   "language": "python",
   "name": "python3"
  },
  "language_info": {
   "codemirror_mode": {
    "name": "ipython",
    "version": 3
   },
   "file_extension": ".py",
   "mimetype": "text/x-python",
   "name": "python",
   "nbconvert_exporter": "python",
   "pygments_lexer": "ipython3",
   "version": "3.7.6"
  }
 },
 "nbformat": 4,
 "nbformat_minor": 4
}
